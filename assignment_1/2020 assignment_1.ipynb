{
 "cells": [
  {
   "cell_type": "markdown",
   "metadata": {
    "colab_type": "text",
    "id": "yI6QRw_VVhOI"
   },
   "source": [
    "# <center> Neural Networks and Deep Learning (CSCI 5922)</center>\n",
    "# <center> Spring 2020 </center>"
   ]
  },
  {
   "cell_type": "markdown",
   "metadata": {
    "colab_type": "text",
    "id": "oyyZSLCIVhOK"
   },
   "source": [
    "**Name:** Nicholas Varberg"
   ]
  },
  {
   "cell_type": "markdown",
   "metadata": {
    "colab_type": "text",
    "id": "B7u4l5SIVhOL"
   },
   "source": [
    "## Goal"
   ]
  },
  {
   "cell_type": "markdown",
   "metadata": {
    "colab_type": "text",
    "id": "O7mbNY0lVhOL"
   },
   "source": [
    "The goal of this assignment is to introduce neural networks in terms of ideas you are already familiar with:  linear regression and classification"
   ]
  },
  {
   "cell_type": "markdown",
   "metadata": {
    "colab_type": "text",
    "id": "i5ZAXp1mVhOM"
   },
   "source": [
    "## Dataset"
   ]
  },
  {
   "cell_type": "markdown",
   "metadata": {
    "colab_type": "text",
    "id": "w-ZVWvA4VhON"
   },
   "source": [
    "You are given a dataset with 2 input variables ($x_1$, $x_2$) and an output variable ($y$)."
   ]
  },
  {
   "cell_type": "code",
   "execution_count": 1,
   "metadata": {
    "colab": {},
    "colab_type": "code",
    "id": "qluUEgHYVhOO"
   },
   "outputs": [],
   "source": [
    "from sklearn.datasets import make_regression\n",
    "from matplotlib import pyplot\n",
    "import numpy as np\n",
    "import os\n",
    "\n",
    "# Load data\n",
    "data = np.loadtxt(os.path.join('data', 'assign1_data.txt'),  delimiter=',')\n",
    "X = data[:,:2]\n",
    "y = data[:, 2]\n",
    "z = data[:, 3]"
   ]
  },
  {
   "cell_type": "markdown",
   "metadata": {
    "colab_type": "text",
    "id": "ZiLhj-CvVhOQ"
   },
   "source": [
    "## Part 1"
   ]
  },
  {
   "cell_type": "markdown",
   "metadata": {
    "colab_type": "text",
    "id": "1zNUNcC0VhOR"
   },
   "source": [
    "Write a program to find the exact least squares solution to $y = w_1 x_1 + w_2 x_2 + b$ for the above dataset, using the normal equation."
   ]
  },
  {
   "cell_type": "markdown",
   "metadata": {
    "colab_type": "text",
    "id": "txzccR6-VhOS"
   },
   "source": [
    "Complete the following function below and use it to answer questions (A) and (B). \n",
    "\n",
    "**Note:** Please do not change the interface of the given function."
   ]
  },
  {
   "cell_type": "code",
   "execution_count": 2,
   "metadata": {
    "colab": {},
    "colab_type": "code",
    "id": "gFAcJL6VVhOS"
   },
   "outputs": [],
   "source": [
    "def least_squares(X, y):\n",
    "    \"\"\"\n",
    "    Finds the Least Squares solution\n",
    "    \n",
    "    Parameters\n",
    "    ----------\n",
    "    X : NumPy array of features (size : no of examples X features)\n",
    "    y : Numpy array of output value 'y' (size : no of examples X 1)\n",
    "    \n",
    "    Returns\n",
    "    -------\n",
    "    w : solution array\n",
    "    \"\"\"\n",
    "    # Add array of ones to X so that intercept (b) is solved as well\n",
    "    b_col = np.array([1]*len(X)).reshape((len(X),1))\n",
    "    X_b    = np.append(X, b_col, axis=1)\n",
    "    # Solve w with the normal equation\n",
    "    w     = np.matmul(np.matrix(np.matmul(X_b.T,X_b)).I,np.matmul(X_b.T,y))\n",
    "    return w"
   ]
  },
  {
   "cell_type": "markdown",
   "metadata": {
    "colab_type": "text",
    "id": "ZcO-nAfxVhOV"
   },
   "source": [
    "(A) Report the values of $w_1$, $w_2$, and $b$."
   ]
  },
  {
   "cell_type": "code",
   "execution_count": 3,
   "metadata": {
    "colab": {},
    "colab_type": "code",
    "id": "5sXuI05yVhOV"
   },
   "outputs": [
    {
     "name": "stdout",
     "output_type": "stream",
     "text": [
      "w1 is  -2.044242595137638\n",
      "w2 is  3.996860168659319\n",
      "b is   -0.9242908118675865\n"
     ]
    }
   ],
   "source": [
    "w = least_squares(X,y)\n",
    "print('w1 is ', w[0,0])\n",
    "print('w2 is ', w[0,1])\n",
    "print('b is  ', w[0,2])"
   ]
  },
  {
   "cell_type": "markdown",
   "metadata": {
    "colab_type": "text",
    "id": "S-jYwaEbVhOY"
   },
   "source": [
    "(B) What function or method did you use to find the least-squares solution?"
   ]
  },
  {
   "cell_type": "markdown",
   "metadata": {
    "colab_type": "text",
    "id": "OF8A7mYEVhOY"
   },
   "source": [
    "I used the normal equation to get the exact solution for w:\n",
    "<center> $w = (X^{T}X)^{-1}(X^{T}y)$"
   ]
  },
  {
   "cell_type": "markdown",
   "metadata": {
    "colab_type": "text",
    "id": "_qNGRMnLVhOZ"
   },
   "source": [
    "## Part 2"
   ]
  },
  {
   "cell_type": "markdown",
   "metadata": {
    "colab_type": "text",
    "id": "K2C1Pj1xVhOZ"
   },
   "source": [
    "Implement linear regression of y on X via first-order optimization of the least-squares objective. Write a program that determines the coefficients {w1,w2,b}. Implement stochastic gradient descent, batch gradient descent, and mini-batch gradient descent. You will need to experiment with updating rules, step sizes (i.e. learning rates), stopping criteria, etc. Experiment to find settings that lead to solutions with the fewest number of sweeps through the data."
   ]
  },
  {
   "cell_type": "markdown",
   "metadata": {
    "colab_type": "text",
    "id": "Dz9LPxNsVhOa"
   },
   "source": [
    "Complete the following functions below and use them to answer questions (A), (B) and (C). You may find the shuffle function from scikit-learn useful. \n",
    "\n",
    "Use the following hyperparameters:\n",
    "\n",
    "Learning rates = [0.001, 0.05, 0.01, 0.05, 0.1, 0.3]\n",
    "\n",
    "MaxIter = [10, 50, 100, 500, 1000, 5000, 10000, 25000, 50000]\n",
    "\n",
    "**Note:** Please do not change the interface of the given functions."
   ]
  },
  {
   "cell_type": "code",
   "execution_count": 4,
   "metadata": {
    "colab": {},
    "colab_type": "code",
    "id": "9rCKocs6VhOb"
   },
   "outputs": [],
   "source": [
    "from sklearn.utils import shuffle\n",
    "from sklearn.metrics import mean_squared_error, accuracy_score\n",
    "\n",
    "def online_epoch(X, y, w, alpha):\n",
    "    \"\"\"\n",
    "    One epoch of stochastic gradient descent (i.e. one sweep of the dataset).\n",
    "    \n",
    "    Parameters\n",
    "    ----------\n",
    "    X : NumPy array of features (size : no of examples X features)\n",
    "    y : Numpy array of class labels (size : no of examples X 1)\n",
    "    w : array of coefficients from the previous iteration\n",
    "    \n",
    "    Returns\n",
    "    -------\n",
    "    Coefficients of the model (after updating)\n",
    "    \"\"\"\n",
    "    \n",
    "    for i in shuffle(range(len(X))):\n",
    "        xi = X[i]\n",
    "        yi = y[i]\n",
    "        grad = (yi - w.T*xi)*xi\n",
    "        w  = w + alpha*grad\n",
    "    return w\n",
    "\n",
    "def batch_update(X, y, w, alpha):\n",
    "    \"\"\"\n",
    "    One iteration of full-batch gradient descent.\n",
    "    \n",
    "    Parameters\n",
    "    ----------\n",
    "    X : NumPy array of features (size : no of examples X features)\n",
    "    y : Numpy array of class labels (size : no of examples X 1)\n",
    "    w : array of coefficients from the previous iteration\n",
    "    \n",
    "    Returns\n",
    "    -------\n",
    "    Coefficients of the model (after updating)\n",
    "    \"\"\"\n",
    "    # use average gradient to update\n",
    "    ave_grad = np.mean( (y - np.dot(X,w)).reshape(-1, 1)*X, axis=0 )\n",
    "    w        = w + alpha*ave_grad\n",
    "    return w\n",
    "\n",
    "def mini_batch_update(X, y, w, alpha, batch_size):\n",
    "    \"\"\"\n",
    "    One epoch of mini-batch SGD over the entire dataset (i.e. one sweep of the dataset).\n",
    "    \n",
    "    Parameters\n",
    "    ----------\n",
    "    X : NumPy array of features (size : no of examples X features)\n",
    "    y : Numpy array of class labels (size : no of examples X 1)\n",
    "    w : array of coefficients from the previous iteration\n",
    "    batch_size : size of the batch for gradient update\n",
    "    \n",
    "    Returns\n",
    "    -------\n",
    "    Coefficients of the model (after updating)\n",
    "    \"\"\"\n",
    "    shuffled_i = shuffle(np.arange(len(X)))\n",
    "    start      = 0\n",
    "    while start < len(shuffled_i):\n",
    "        end            = min(start + batch_size, len(shuffled_i))\n",
    "        X_mini, y_mini = X[shuffled_i[start:end]], y[shuffled_i[start:end]]\n",
    "        w              = batch_update(X_mini, y_mini, w, alpha)\n",
    "        start          = start + batch_size\n",
    "    return w\n",
    "\n",
    "def least_squares_grad_desc(X, y, maxIter, alpha, update, *batch_size):\n",
    "    \"\"\"\n",
    "    Implements least squares with gradient descent.\n",
    "    \n",
    "    Parameters\n",
    "    ----------\n",
    "    X : NumPy array of features (size : no of examples X features)\n",
    "    y : Numpy array of class labels (size : no of examples X 1)\n",
    "    maxIter : Maximum number of iterations allowed\n",
    "    alpha : Learning rate\n",
    "    update : update function to utilize (one of online, batch, mini-batch)\n",
    "    batch_size : number of examples in a batch (only useful when update = mini_batch_update)\n",
    "    \n",
    "    Returns\n",
    "    -------\n",
    "    Coefficients of the model (after updating)\n",
    "    \n",
    "    Note : *batch_size is an optional argument and only to be used when doing \n",
    "    mini-batch Gradient Descent \n",
    "    \"\"\"\n",
    "    # Add array of ones to X so that intercept (b) is solved as well\n",
    "    b_col   = np.array([1]*len(X)).reshape(-1,1)\n",
    "    X_b     = np.append(X, b_col, axis=1)\n",
    "    w       = np.zeros(len(X_b[0]))\n",
    "    w_old   = np.ones(len(X_b[0]))\n",
    "    # Stop when change is small or when reached maxIter \n",
    "    epsilon = 0.000001\n",
    "    i       = 0\n",
    "    # List to store mean squared error\n",
    "    mse = []\n",
    "    while (max( abs((w - w_old)/w_old) ) > epsilon) & (i < maxIter):\n",
    "        w_old = w\n",
    "        if update == mini_batch_update:\n",
    "            w = update(X_b, y, w, alpha, batch_size[0])\n",
    "        else:\n",
    "            w = update(X_b, y, w, alpha)\n",
    "        mse.append( mean_squared_error(y, np.dot(X_b,w)) )\n",
    "        i    += 1\n",
    "    print( max( abs((w - w_old)/w) ), ' change' )\n",
    "    print(i,'/',maxIter, ' iter')\n",
    "    return w, X_b, mse"
   ]
  },
  {
   "cell_type": "markdown",
   "metadata": {
    "colab_type": "text",
    "id": "zYMi7e8ZVhOd"
   },
   "source": [
    "(A) Report the values of $w_1$, $w_2$, and $b$. "
   ]
  },
  {
   "cell_type": "code",
   "execution_count": 5,
   "metadata": {
    "colab": {},
    "colab_type": "code",
    "id": "uJ2UpCAbVhOd"
   },
   "outputs": [
    {
     "name": "stdout",
     "output_type": "stream",
     "text": [
      "9.419615453446646e-07  change\n",
      "183 / 1000  iter\n",
      "w1 is  -2.044245068429012\n",
      "w2 is  3.9968358768683876\n",
      "b is   -0.9242772856067061\n"
     ]
    },
    {
     "name": "stderr",
     "output_type": "stream",
     "text": [
      "/Users/nickvarberg/anaconda3/lib/python3.6/site-packages/ipykernel_launcher.py:99: RuntimeWarning: divide by zero encountered in true_divide\n"
     ]
    }
   ],
   "source": [
    "w, X_b, mse = least_squares_grad_desc(X, y, 1000, 0.99, batch_update, 10)\n",
    "print('w1 is ', w[0])\n",
    "print('w2 is ', w[1])\n",
    "print('b is  ', w[2])"
   ]
  },
  {
   "cell_type": "code",
   "execution_count": null,
   "metadata": {
    "colab": {},
    "colab_type": "code",
    "id": "Vf1YmHkPVhOh"
   },
   "outputs": [],
   "source": []
  },
  {
   "cell_type": "markdown",
   "metadata": {
    "colab_type": "text",
    "id": "mMNxMJJdVhOj"
   },
   "source": [
    "(B) What settings worked well for you:  online vs. batch vs. minibatch? What step size? How did you decide to terminate?"
   ]
  },
  {
   "cell_type": "code",
   "execution_count": null,
   "metadata": {
    "colab": {},
    "colab_type": "code",
    "id": "PyFSefo3VhOk"
   },
   "outputs": [],
   "source": []
  },
  {
   "cell_type": "markdown",
   "metadata": {
    "colab_type": "text",
    "id": "bXxAjKTtVhOm"
   },
   "source": [
    "(C) Make a graph of error on the entire data set as a function of epoch. An epoch is a complete sweep through all the data (which is one iteration for full-batch gradient descent)."
   ]
  },
  {
   "cell_type": "code",
   "execution_count": 6,
   "metadata": {
    "colab": {},
    "colab_type": "code",
    "id": "j3rvqIrYVhOn"
   },
   "outputs": [
    {
     "data": {
      "image/png": "[encoded data removed]",
      "text/plain": [
       "<Figure size 432x288 with 1 Axes>"
      ]
     },
     "metadata": {},
     "output_type": "display_data"
    }
   ],
   "source": [
    "x_plot = np.arange(0, len(mse))\n",
    "pyplot.plot(x_plot,mse)\n",
    "pyplot.xlabel('Epoch of full-batch gradient descent')\n",
    "pyplot.ylabel('Mean Squared Error')\n",
    "pyplot.title('MSE decreses towards lower limit')\n",
    "pyplot.show()"
   ]
  },
  {
   "cell_type": "markdown",
   "metadata": {
    "colab_type": "text",
    "id": "u2WH5OVEVhOp"
   },
   "source": [
    "## Part 3"
   ]
  },
  {
   "cell_type": "markdown",
   "metadata": {
    "colab_type": "text",
    "id": "POTbQx4cVhOp"
   },
   "source": [
    "The data set from a regression problem can be converted into a classification problem simply by using the sign of (+ or -) as representing one of two classes. In the data set used in Part 1 and 2, you'll see the variable z that represents this binary (0 or 1) class.\n",
    "\n",
    "Use the perceptron learning rule to solve for the coefficients {$w_1$, $w_2$, $b$} of this classification problem.   \n",
    "\n",
    "Two warnings: First, your solution to Part 3 should require only a few lines of code changed from the code you wrote for Part 2. Second, the Perceptron algorithm will not converge if there is no exact solution to the training data. It will jitter among coefficients that all yield roughly equally good solutions."
   ]
  },
  {
   "cell_type": "markdown",
   "metadata": {
    "colab_type": "text",
    "id": "Qs7gbsbjVhOq"
   },
   "source": [
    "Complete the following functions below and use them to answer questions (A) and (B). \n",
    "\n",
    "**Note:** Please do not change the interface of the given functions."
   ]
  },
  {
   "cell_type": "code",
   "execution_count": 36,
   "metadata": {
    "colab": {},
    "colab_type": "code",
    "id": "anej2h2pVhOr"
   },
   "outputs": [],
   "source": [
    "def perceptron_update(X, y, w, alpha):\n",
    "    \"\"\"\n",
    "    One epoch of Perceptron updates (full sweep of the dataset).\n",
    "    \n",
    "    Parameters\n",
    "    ----------\n",
    "    X : NumPy array of features (size : no of examples X features)\n",
    "    y : Numpy array of class labels (size : no of examples X 1)\n",
    "    w : array of coefficients from the previous iteration\n",
    "    \n",
    "    Returns\n",
    "    -------\n",
    "    w : Coefficients of the classifier (after updating)\n",
    "    incorrect : Incorrectly classified examples\n",
    "    \"\"\"\n",
    "    shuffled_i = shuffle(range(len(X)))\n",
    "    for i in shuffled_i:\n",
    "        xi = X[i]\n",
    "        yi = y[i]\n",
    "        if yi*np.dot(xi,w) <= 0:\n",
    "            w  = w + alpha*xi\n",
    "    return w\n",
    "\n",
    "def perceptron(X, y, maxIter, alpha):\n",
    "    \"\"\"\n",
    "    Implements the Perceptron algorithm.\n",
    "    \n",
    "    Parameters\n",
    "    ----------\n",
    "    X : NumPy array of features (size : no of examples X features)\n",
    "    y : Numpy array of class labels (size : no of examples X 1)\n",
    "    maxIter : The maximum number of iterations allowed \n",
    "    alpha : Learning Rate\n",
    "    \n",
    "    Returns\n",
    "    -------\n",
    "    w : Coefficients of the classifier\n",
    "    incorrect : Incorrectly classified examples on termination\n",
    "    \"\"\"\n",
    "    # Add array of ones to X so that intercept (b) is solved as well\n",
    "    b_col   = np.array([1]*len(X)).reshape(-1,1)\n",
    "    X_b     = np.append(X, b_col, axis=1)\n",
    "    w       = np.zeros(len(X_b[0]))\n",
    "    w_old   = np.ones(len(X_b[0]))\n",
    "    # Stop when change is small or when reached maxIter \n",
    "    epsilon = 0.000001\n",
    "    i       = 0\n",
    "    # List to store accuracy\n",
    "    acc = []\n",
    "    while (max( abs((w - w_old)/w_old) ) > epsilon) & (i < maxIter):\n",
    "        w      = perceptron_update(X_b, y, w, alpha)\n",
    "        y_pred = []\n",
    "        for pred in np.dot(X_b,w):\n",
    "            if pred < 0:\n",
    "                y_pred.append(0)\n",
    "            else:\n",
    "                y_pred.append(1)\n",
    "        acc.append( accuracy_score(y,np.array(y_pred)) )\n",
    "        i      += 1\n",
    "    return w, acc"
   ]
  },
  {
   "cell_type": "markdown",
   "metadata": {
    "colab_type": "text",
    "id": "CiM8viPnVhOt"
   },
   "source": [
    "(A) Report the values of coefficients $w_1$, $w_2$, and $b$."
   ]
  },
  {
   "cell_type": "code",
   "execution_count": 42,
   "metadata": {
    "colab": {},
    "colab_type": "code",
    "id": "Jl1YoCt-VhOt"
   },
   "outputs": [
    {
     "name": "stdout",
     "output_type": "stream",
     "text": [
      "w1 is  1203.314999999993\n",
      "w2 is  560.684999999989\n",
      "b is   2249.9999999994197\n"
     ]
    }
   ],
   "source": [
    "z_neg = []\n",
    "for zi in z:\n",
    "    if zi == 0:\n",
    "        z_neg.append(-1)\n",
    "    else:\n",
    "        z_neg.append(1)\n",
    "z_neg = np.array(z_neg)\n",
    "z_neg\n",
    "w, acc = perceptron(X, y=z_neg, maxIter=1000, alpha=0.05)\n",
    "print('w1 is ', w[0])\n",
    "print('w2 is ', w[1])\n",
    "print('b is  ', w[2])"
   ]
  },
  {
   "cell_type": "markdown",
   "metadata": {
    "colab_type": "text",
    "id": "v9MObKUYVhOv"
   },
   "source": [
    "(B) Make a graph of the accuracy (% correct classification) on the training set as a function of epoch."
   ]
  },
  {
   "cell_type": "code",
   "execution_count": 41,
   "metadata": {
    "colab": {},
    "colab_type": "code",
    "id": "x8yAplB5VhOw"
   },
   "outputs": [
    {
     "data": {
      "image/png": "[encoded data removed]",
      "text/plain": [
       "<Figure size 432x288 with 1 Axes>"
      ]
     },
     "metadata": {},
     "output_type": "display_data"
    }
   ],
   "source": [
    "x_plot = np.arange(0, len(acc))\n",
    "pyplot.plot(x_plot,np.array(acc)*100)\n",
    "pyplot.xlabel('Epoch of Perceptron')\n",
    "pyplot.ylabel('Accuracy %')\n",
    "pyplot.title('Acc ...')\n",
    "pyplot.show()"
   ]
  },
  {
   "cell_type": "markdown",
   "metadata": {
    "colab_type": "text",
    "id": "AfXBONZZVhOy"
   },
   "source": [
    "## Part 4"
   ]
  },
  {
   "cell_type": "markdown",
   "metadata": {
    "colab_type": "text",
    "id": "zO2ij9gIVhOy"
   },
   "source": [
    "In machine learning, we really want to train a model based on some data and then expect the model to do well on \"out of sample\" data. Try this with the code you wrote for Part 3:  Train the model on the first {5, 10, 25, 50, 75} examples in the data set and test the model on the final 25 examples."
   ]
  },
  {
   "cell_type": "markdown",
   "metadata": {
    "colab_type": "text",
    "id": "F66-PYWKVhOz"
   },
   "source": [
    "Complete the following function below and use it to answer (A). \n",
    "\n",
    "**Note:** Please do not change the interface of the given function."
   ]
  },
  {
   "cell_type": "code",
   "execution_count": null,
   "metadata": {
    "colab": {},
    "colab_type": "code",
    "id": "3wseIfmUVhOz"
   },
   "outputs": [],
   "source": [
    "def classify(X, y, w):\n",
    "    \"\"\"\n",
    "    Use this function to classify examples in the test set\n",
    "    \n",
    "    Parameters\n",
    "    ----------\n",
    "    X : Test set features\n",
    "    y : Test set labels\n",
    "    w : Perceptron coefficients\n",
    "    \n",
    "    Returns\n",
    "    -------\n",
    "    correct : number of correctly classified examples\n",
    "    \"\"\"\n",
    "    pass"
   ]
  },
  {
   "cell_type": "markdown",
   "metadata": {
    "colab_type": "text",
    "id": "I3D_lEO8VhO3"
   },
   "source": [
    "How does performance on the test set vary with the amount of training data? Make a bar graph showing performance for each of the different training set sizes."
   ]
  },
  {
   "cell_type": "code",
   "execution_count": null,
   "metadata": {
    "colab": {},
    "colab_type": "code",
    "id": "0GrkjpYDVhO4"
   },
   "outputs": [],
   "source": []
  }
 ],
 "metadata": {
  "colab": {
   "collapsed_sections": [],
   "name": "2020 assignment_1.ipynb",
   "provenance": []
  },
  "kernelspec": {
   "display_name": "Python 3",
   "language": "python",
   "name": "python3"
  },
  "language_info": {
   "codemirror_mode": {
    "name": "ipython",
    "version": 3
   },
   "file_extension": ".py",
   "mimetype": "text/x-python",
   "name": "python",
   "nbconvert_exporter": "python",
   "pygments_lexer": "ipython3",
   "version": "3.6.6"
  }
 },
 "nbformat": 4,
 "nbformat_minor": 1
}
